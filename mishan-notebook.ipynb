{
 "cells": [
  {
   "cell_type": "code",
   "execution_count": 166,
   "metadata": {},
   "outputs": [],
   "source": [
    "from pytrends.request import TrendReq\n",
    "import pandas as pd\n",
    "import matplotlib.pyplot as plt\n",
    "\n",
    "pytrends = TrendReq(hl='en-US', tz=360)\n"
   ]
  },
  {
   "cell_type": "code",
   "execution_count": 167,
   "metadata": {},
   "outputs": [
    {
     "name": "stderr",
     "output_type": "stream",
     "text": [
      "/Users/mishangagnon/opt/anaconda3/envs/si206/lib/python3.12/site-packages/pytrends/request.py:260: FutureWarning: Downcasting object dtype arrays on .fillna, .ffill, .bfill is deprecated and will change in a future version. Call result.infer_objects(copy=False) instead. To opt-in to the future behavior, set `pd.set_option('future.no_silent_downcasting', True)`\n",
      "  df = df.fillna(False)\n"
     ]
    }
   ],
   "source": [
    "kw_list = [\"Bread\",\"Ferrari\"]\n",
    "pytrends.build_payload(kw_list=kw_list, timeframe=['today 3-m', 'today 3-m'], geo = 'US')\n",
    "overTime = pytrends.interest_over_time()"
   ]
  },
  {
   "cell_type": "code",
   "execution_count": 168,
   "metadata": {},
   "outputs": [],
   "source": [
    "kw_list = [\"food near me\"]\n",
    "pytrends.build_payload(kw_list=kw_list, timeframe=['today 3-m'], geo = 'US')\n",
    "overTime = pytrends.interest_by_region(resolution='CITY')"
   ]
  },
  {
   "cell_type": "code",
   "execution_count": 169,
   "metadata": {},
   "outputs": [
    {
     "name": "stdout",
     "output_type": "stream",
     "text": [
      "None\n"
     ]
    }
   ],
   "source": [
    "print(test)"
   ]
  },
  {
   "cell_type": "code",
   "execution_count": 170,
   "metadata": {},
   "outputs": [
    {
     "name": "stderr",
     "output_type": "stream",
     "text": [
      "/Users/mishangagnon/opt/anaconda3/envs/si206/lib/python3.12/site-packages/pytrends/request.py:260: FutureWarning: Downcasting object dtype arrays on .fillna, .ffill, .bfill is deprecated and will change in a future version. Call result.infer_objects(copy=False) instead. To opt-in to the future behavior, set `pd.set_option('future.no_silent_downcasting', True)`\n",
      "  df = df.fillna(False)\n"
     ]
    }
   ],
   "source": [
    "overTime = pytrends.interest_over_time()\n"
   ]
  },
  {
   "cell_type": "code",
   "execution_count": 171,
   "metadata": {},
   "outputs": [
    {
     "data": {
      "text/html": [
       "<div>\n",
       "<style scoped>\n",
       "    .dataframe tbody tr th:only-of-type {\n",
       "        vertical-align: middle;\n",
       "    }\n",
       "\n",
       "    .dataframe tbody tr th {\n",
       "        vertical-align: top;\n",
       "    }\n",
       "\n",
       "    .dataframe thead th {\n",
       "        text-align: right;\n",
       "    }\n",
       "</style>\n",
       "<table border=\"1\" class=\"dataframe\">\n",
       "  <thead>\n",
       "    <tr style=\"text-align: right;\">\n",
       "      <th></th>\n",
       "      <th>ice_cream</th>\n",
       "    </tr>\n",
       "    <tr>\n",
       "      <th>date</th>\n",
       "      <th></th>\n",
       "    </tr>\n",
       "  </thead>\n",
       "  <tbody>\n",
       "    <tr>\n",
       "      <th>2019-04-28</th>\n",
       "      <td>47</td>\n",
       "    </tr>\n",
       "    <tr>\n",
       "      <th>2019-05-05</th>\n",
       "      <td>57</td>\n",
       "    </tr>\n",
       "    <tr>\n",
       "      <th>2019-05-12</th>\n",
       "      <td>57</td>\n",
       "    </tr>\n",
       "    <tr>\n",
       "      <th>2019-05-19</th>\n",
       "      <td>58</td>\n",
       "    </tr>\n",
       "    <tr>\n",
       "      <th>2019-05-26</th>\n",
       "      <td>65</td>\n",
       "    </tr>\n",
       "  </tbody>\n",
       "</table>\n",
       "</div>"
      ],
      "text/plain": [
       "            ice_cream\n",
       "date                 \n",
       "2019-04-28         47\n",
       "2019-05-05         57\n",
       "2019-05-12         57\n",
       "2019-05-19         58\n",
       "2019-05-26         65"
      ]
     },
     "execution_count": 171,
     "metadata": {},
     "output_type": "execute_result"
    }
   ],
   "source": [
    "interest_over_time_df.head()"
   ]
  },
  {
   "cell_type": "code",
   "execution_count": 172,
   "metadata": {},
   "outputs": [
    {
     "name": "stderr",
     "output_type": "stream",
     "text": [
      "/Users/mishangagnon/opt/anaconda3/envs/si206/lib/python3.12/site-packages/pytrends/request.py:260: FutureWarning: Downcasting object dtype arrays on .fillna, .ffill, .bfill is deprecated and will change in a future version. Call result.infer_objects(copy=False) instead. To opt-in to the future behavior, set `pd.set_option('future.no_silent_downcasting', True)`\n",
      "  df = df.fillna(False)\n"
     ]
    },
    {
     "data": {
      "text/plain": [
       "<Axes: >"
      ]
     },
     "execution_count": 172,
     "metadata": {},
     "output_type": "execute_result"
    },
    {
     "data": {
      "image/png": "[encoded data removed]",
      "text/plain": [
       "<Figure size 640x480 with 1 Axes>"
      ]
     },
     "metadata": {},
     "output_type": "display_data"
    }
   ],
   "source": [
    "from pytrends.request import TrendReq\n",
    "import pandas as pd\n",
    "\n",
    "# Initialize a TrendReq object\n",
    "pytrend = TrendReq(hl='en-US', tz=360)  # 'hl' is the host language, 'tz' is the timezone offset\n",
    "\n",
    "# Define the search keyword and the region\n",
    "keyword = 'ice cream'\n",
    "geo = 'US-MI-505'  # Michigan, USA as the region, you might need to adjust this for more specific local data\n",
    "\n",
    "# Build the payload\n",
    "pytrend.build_payload(kw_list=[keyword], geo=geo, timeframe='today 5-y')  # Adjust timeframe as needed\n",
    "\n",
    "# Get interest over time\n",
    "interest_over_time_df = pytrend.interest_over_time()\n",
    "interest_over_time_df.drop('isPartial', axis =1, inplace=True)\n",
    "interest_over_time_df = interest_over_time_df.reset_index()\n",
    "interest_over_time_df.columns = interest_over_time_df.columns.str.replace(' ', '_', regex=True)\n",
    "\n",
    "\n",
    "\n",
    "# Display the data\n",
    "interest_over_time_df.plot(kind = 'line')\n"
   ]
  },
  {
   "cell_type": "code",
   "execution_count": 185,
   "metadata": {},
   "outputs": [
    {
     "name": "stdout",
     "output_type": "stream",
     "text": [
      "<class 'pandas.core.frame.DataFrame'>\n",
      "RangeIndex: 262 entries, 0 to 261\n",
      "Data columns (total 2 columns):\n",
      " #   Column     Non-Null Count  Dtype         \n",
      "---  ------     --------------  -----         \n",
      " 0   date       262 non-null    datetime64[ns]\n",
      " 1   ice_cream  262 non-null    int64         \n",
      "dtypes: datetime64[ns](1), int64(1)\n",
      "memory usage: 4.2 KB\n"
     ]
    }
   ],
   "source": []
  },
  {
   "cell_type": "code",
   "execution_count": 210,
   "metadata": {},
   "outputs": [],
   "source": [
    "def set_up_database(db_name):\n",
    "    conn = sqlite3.connect(\"/Users/mishangagnon/si206/si206-final-project\" + \"/\" + db_name)\n",
    "    cur = conn.cursor()\n",
    "    return conn\n",
    "\n",
    "def create_table_from_df(df, table_name, conn):\n",
    "    # Start the CREATE TABLE statement\n",
    "    sql = f\"CREATE TABLE IF NOT EXISTS {table_name} (\"\n",
    "    \n",
    "    # Add columns with appropriate data types\n",
    "    columns = []\n",
    "    for col_name, dtype in df.dtypes.items():\n",
    "        col_type = 'TEXT'  # Default type\n",
    "        if pd.api.types.is_integer_dtype(dtype):\n",
    "            col_type = 'INTEGER'\n",
    "        elif pd.api.types.is_float_dtype(dtype):\n",
    "            col_type = 'REAL'\n",
    "        elif pd.api.types.is_datetime64_any_dtype(dtype):\n",
    "            col_type = 'DATETIME'\n",
    "        # Add column specification\n",
    "        columns.append(f\"{col_name} {col_type}\")\n",
    "    \n",
    "    # Complete the SQL statement\n",
    "    sql += \", \".join(columns)\n",
    "    sql += \")\"\n",
    "    \n",
    "    # Execute the SQL statement\n",
    "    cur = conn.cursor()\n",
    "    cur.execute(sql)\n",
    "    conn.commit()\n",
    "\n",
    "\n",
    "def get_oldest_date(table_name, date_col_name, conn):\n",
    "\n",
    "    # Create a cursor object using the connection\n",
    "    cur = conn.cursor()\n",
    "    \n",
    "    # Execute the query to find the oldest date\n",
    "    cur.execute(f\"SELECT MIN({date_col_name}) FROM {table_name}\")\n",
    "    \n",
    "    # Fetch the result\n",
    "    result = cur.fetchone()\n",
    "    \n",
    "    # Check if the result is not None\n",
    "    if result and result[0]:\n",
    "        return result[0]\n",
    "    else:\n",
    "        return None\n",
    "\n",
    "def shift_date_back_pandas(date_str, days):\n",
    "    \"\"\"\n",
    "    Shifts a given date by a specified number of days using pandas.\n",
    "    \n",
    "    Parameters:\n",
    "    date_str (str): The date in 'YYYY-MM-DD' format.\n",
    "    days (int): The number of days to shift the date. Negative for past, positive for future.\n",
    "    \n",
    "    Returns:\n",
    "    str: The shifted date in 'YYYY-MM-DD' format.\n",
    "    \"\"\"\n",
    "    # Convert the date string to a pandas Timestamp\n",
    "    date = pd.to_datetime(date_str)\n",
    "    \n",
    "    # Shift the date by the specified number of days\n",
    "    new_date = date_pd.Timedelta(days=days)\n",
    "    \n",
    "    # Convert the Timestamp back to a string in 'YYYY-MM-DD' format\n",
    "    return new_date.strftime('%Y-%m-%d')\n",
    "def insert_data_from_df(df, table_name, date_col_name, conn):\n",
    "\n",
    "    # Create a cursor object using the connection\n",
    "    cur = conn.cursor()\n",
    "    df[date_col_name] = pd.to_datetime(df[date_col_name])\n",
    "    df[date_col_name] = df[date_col_name].dt.strftime('%Y-%m-%d')\n",
    "    # Prepare the INSERT INTO statement\n",
    "    placeholders = ', '.join(['?'] * len(df.columns))\n",
    "    columns = ', '.join(df.columns)\n",
    "    sql = f\"INSERT INTO {table_name} ({columns}) VALUES ({placeholders})\"\n",
    "    # Insert each row from the DataFrame\n",
    "    for row in df.itertuples(index=False, name=None):\n",
    "        cur.execute(sql, row)\n",
    "        conn.commit()\n",
    "    \n",
    "    # Commit the transactions"
   ]
  },
  {
   "cell_type": "code",
   "execution_count": 211,
   "metadata": {},
   "outputs": [
    {
     "name": "stdout",
     "output_type": "stream",
     "text": [
      "INSERT INTO interest_over_time (date, ice_cream) VALUES (?, ?)\n"
     ]
    }
   ],
   "source": [
    "import os\n",
    "DB_NAME = \"test.db\"\n",
    "TABLE_NAME = \"interest_over_time\"\n",
    "conn = set_up_database(DB_NAME)\n",
    "create_table_from_df(interest_over_time_df, TABLE_NAME, conn)\n",
    "insert_data_from_df(interest_over_time_df, TABLE_NAME,'date', conn)"
   ]
  },
  {
   "cell_type": "code",
   "execution_count": 206,
   "metadata": {},
   "outputs": [
    {
     "name": "stdout",
     "output_type": "stream",
     "text": [
      "[('2019-04-28', 47), ('2019-05-05', 57), ('2019-05-12', 57), ('2019-05-19', 58), ('2019-05-26', 65), ('2019-06-02', 62), ('2019-06-09', 61), ('2019-06-16', 71), ('2019-06-23', 78), ('2019-06-30', 94), ('2019-07-07', 87), ('2019-07-14', 83), ('2019-07-21', 86), ('2019-07-28', 71), ('2019-08-04', 64), ('2019-08-11', 58), ('2019-08-18', 55), ('2019-08-25', 49), ('2019-09-01', 47), ('2019-09-08', 38), ('2019-09-15', 39), ('2019-09-22', 39), ('2019-09-29', 35), ('2019-10-06', 32), ('2019-10-13', 28), ('2019-10-20', 29), ('2019-10-27', 27), ('2019-11-03', 24), ('2019-11-10', 29), ('2019-11-17', 28), ('2019-11-24', 29), ('2019-12-01', 26), ('2019-12-08', 25), ('2019-12-15', 31), ('2019-12-22', 31), ('2019-12-29', 31), ('2020-01-05', 31), ('2020-01-12', 29), ('2020-01-19', 35), ('2020-01-26', 36), ('2020-02-02', 34), ('2020-02-09', 32), ('2020-02-16', 37), ('2020-02-23', 35), ('2020-03-01', 41), ('2020-03-08', 36), ('2020-03-15', 30), ('2020-03-22', 34), ('2020-03-29', 36), ('2020-04-05', 41), ('2020-04-12', 40), ('2020-04-19', 51), ('2020-04-26', 54), ('2020-05-03', 55), ('2020-05-10', 54), ('2020-05-17', 56), ('2020-05-24', 79), ('2020-05-31', 70), ('2020-06-07', 74), ('2020-06-14', 76), ('2020-06-21', 81), ('2020-06-28', 88), ('2020-07-05', 83), ('2020-07-12', 84), ('2020-07-19', 87), ('2020-07-26', 71), ('2020-08-02', 67), ('2020-08-09', 69), ('2020-08-16', 64), ('2020-08-23', 63), ('2020-08-30', 60), ('2020-09-06', 48), ('2020-09-13', 42), ('2020-09-20', 43), ('2020-09-27', 35), ('2020-10-04', 39), ('2020-10-11', 35), ('2020-10-18', 33), ('2020-10-25', 28), ('2020-11-01', 24), ('2020-11-08', 32), ('2020-11-15', 28), ('2020-11-22', 30), ('2020-11-29', 27), ('2020-12-06', 32), ('2020-12-13', 31), ('2020-12-20', 30), ('2020-12-27', 28), ('2021-01-03', 28), ('2021-01-10', 34), ('2021-01-17', 40), ('2021-01-24', 40), ('2021-01-31', 35), ('2021-02-07', 35), ('2021-02-14', 34), ('2021-02-21', 38), ('2021-02-28', 43), ('2021-03-07', 47), ('2021-03-14', 44), ('2021-03-21', 56), ('2021-03-28', 49), ('2021-04-04', 56), ('2021-04-11', 59), ('2021-04-18', 57), ('2021-04-25', 57), ('2021-05-02', 58), ('2021-05-09', 60), ('2021-05-16', 76), ('2021-05-23', 70), ('2021-05-30', 82), ('2021-06-06', 79), ('2021-06-13', 82), ('2021-06-20', 69), ('2021-06-27', 76), ('2021-07-04', 86), ('2021-07-11', 74), ('2021-07-18', 84), ('2021-07-25', 75), ('2021-08-01', 74), ('2021-08-08', 68), ('2021-08-15', 63), ('2021-08-22', 68), ('2021-08-29', 57), ('2021-09-05', 54), ('2021-09-12', 44), ('2021-09-19', 41), ('2021-09-26', 41), ('2021-10-03', 37), ('2021-10-10', 37), ('2021-10-17', 36), ('2021-10-24', 30), ('2021-10-31', 29), ('2021-11-07', 35), ('2021-11-14', 34), ('2021-11-21', 31), ('2021-11-28', 25), ('2021-12-05', 29), ('2021-12-12', 30), ('2021-12-19', 31), ('2021-12-26', 30), ('2022-01-02', 34), ('2022-01-09', 35), ('2022-01-16', 35), ('2022-01-23', 43), ('2022-01-30', 40), ('2022-02-06', 39), ('2022-02-13', 32), ('2022-02-20', 36), ('2022-02-27', 37), ('2022-03-06', 44), ('2022-03-13', 49), ('2022-03-20', 47), ('2022-03-27', 43), ('2022-04-03', 45), ('2022-04-10', 55), ('2022-04-17', 54), ('2022-04-24', 62), ('2022-05-01', 58), ('2022-05-08', 77), ('2022-05-15', 72), ('2022-05-22', 73), ('2022-05-29', 97), ('2022-06-05', 71), ('2022-06-12', 93), ('2022-06-19', 88), ('2022-06-26', 87), ('2022-07-03', 100), ('2022-07-10', 86), ('2022-07-17', 87), ('2022-07-24', 81), ('2022-07-31', 74), ('2022-08-07', 75), ('2022-08-14', 69), ('2022-08-21', 64), ('2022-08-28', 56), ('2022-09-04', 49), ('2022-09-11', 45), ('2022-09-18', 39), ('2022-09-25', 39), ('2022-10-02', 38), ('2022-10-09', 37), ('2022-10-16', 41), ('2022-10-23', 39), ('2022-10-30', 33), ('2022-11-06', 32), ('2022-11-13', 31), ('2022-11-20', 35), ('2022-11-27', 33), ('2022-12-04', 32), ('2022-12-11', 33), ('2022-12-18', 32), ('2022-12-25', 36), ('2023-01-01', 37), ('2023-01-08', 33), ('2023-01-15', 39), ('2023-01-22', 36), ('2023-01-29', 39), ('2023-02-05', 42), ('2023-02-12', 37), ('2023-02-19', 40), ('2023-02-26', 42), ('2023-03-05', 46), ('2023-03-12', 45), ('2023-03-19', 50), ('2023-03-26', 56), ('2023-04-02', 53), ('2023-04-09', 68), ('2023-04-16', 53), ('2023-04-23', 54), ('2023-04-30', 62), ('2023-05-07', 74), ('2023-05-14', 69), ('2023-05-21', 79), ('2023-05-28', 98), ('2023-06-04', 79), ('2023-06-11', 77), ('2023-06-18', 86), ('2023-06-25', 78), ('2023-07-02', 93), ('2023-07-09', 81), ('2023-07-16', 83), ('2023-07-23', 75), ('2023-07-30', 76), ('2023-08-06', 63), ('2023-08-13', 70), ('2023-08-20', 60), ('2023-08-27', 61), ('2023-09-03', 56), ('2023-09-10', 45), ('2023-09-17', 48), ('2023-09-24', 43), ('2023-10-01', 42), ('2023-10-08', 35), ('2023-10-15', 31), ('2023-10-22', 35), ('2023-10-29', 30), ('2023-11-05', 34), ('2023-11-12', 34), ('2023-11-19', 36), ('2023-11-26', 28), ('2023-12-03', 30), ('2023-12-10', 36), ('2023-12-17', 32), ('2023-12-24', 36), ('2023-12-31', 37), ('2024-01-07', 33), ('2024-01-14', 34), ('2024-01-21', 36), ('2024-01-28', 37), ('2024-02-04', 43), ('2024-02-11', 41), ('2024-02-18', 42), ('2024-02-25', 46), ('2024-03-03', 44), ('2024-03-10', 46), ('2024-03-17', 53), ('2024-03-24', 48), ('2024-03-31', 45), ('2024-04-07', 58), ('2024-04-14', 66), ('2024-04-21', 59), ('2024-04-28', 74)]\n"
     ]
    }
   ],
   "source": [
    "cur = conn.cursor()\n",
    "\n",
    "# Execute the SELECT query\n",
    "cur.execute(\"SELECT * FROM interest_over_time\")\n",
    "\n",
    "# Fetch and print the results\n",
    "print(cur.fetchall())"
   ]
  },
  {
   "cell_type": "code",
   "execution_count": null,
   "metadata": {},
   "outputs": [],
   "source": [
    "get_oldest_date()"
   ]
  },
  {
   "cell_type": "code",
   "execution_count": null,
   "metadata": {},
   "outputs": [
    {
     "data": {
      "text/html": [
       "<div>\n",
       "<style scoped>\n",
       "    .dataframe tbody tr th:only-of-type {\n",
       "        vertical-align: middle;\n",
       "    }\n",
       "\n",
       "    .dataframe tbody tr th {\n",
       "        vertical-align: top;\n",
       "    }\n",
       "\n",
       "    .dataframe thead th {\n",
       "        text-align: right;\n",
       "    }\n",
       "</style>\n",
       "<table border=\"1\" class=\"dataframe\">\n",
       "  <thead>\n",
       "    <tr style=\"text-align: right;\">\n",
       "      <th></th>\n",
       "      <th>date</th>\n",
       "      <th>ice cream</th>\n",
       "    </tr>\n",
       "  </thead>\n",
       "  <tbody>\n",
       "    <tr>\n",
       "      <th>257</th>\n",
       "      <td>2024-03-31</td>\n",
       "      <td>45</td>\n",
       "    </tr>\n",
       "    <tr>\n",
       "      <th>258</th>\n",
       "      <td>2024-04-07</td>\n",
       "      <td>58</td>\n",
       "    </tr>\n",
       "    <tr>\n",
       "      <th>259</th>\n",
       "      <td>2024-04-14</td>\n",
       "      <td>66</td>\n",
       "    </tr>\n",
       "    <tr>\n",
       "      <th>260</th>\n",
       "      <td>2024-04-21</td>\n",
       "      <td>60</td>\n",
       "    </tr>\n",
       "    <tr>\n",
       "      <th>261</th>\n",
       "      <td>2024-04-28</td>\n",
       "      <td>80</td>\n",
       "    </tr>\n",
       "  </tbody>\n",
       "</table>\n",
       "</div>"
      ],
      "text/plain": [
       "          date  ice cream\n",
       "257 2024-03-31         45\n",
       "258 2024-04-07         58\n",
       "259 2024-04-14         66\n",
       "260 2024-04-21         60\n",
       "261 2024-04-28         80"
      ]
     },
     "execution_count": 126,
     "metadata": {},
     "output_type": "execute_result"
    }
   ],
   "source": [
    "new_df.tail()"
   ]
  },
  {
   "cell_type": "code",
   "execution_count": null,
   "metadata": {},
   "outputs": [],
   "source": []
  }
 ],
 "metadata": {
  "kernelspec": {
   "display_name": "si206",
   "language": "python",
   "name": "python3"
  },
  "language_info": {
   "codemirror_mode": {
    "name": "ipython",
    "version": 3
   },
   "file_extension": ".py",
   "mimetype": "text/x-python",
   "name": "python",
   "nbconvert_exporter": "python",
   "pygments_lexer": "ipython3",
   "version": "3.12.3"
  }
 },
 "nbformat": 4,
 "nbformat_minor": 2
}

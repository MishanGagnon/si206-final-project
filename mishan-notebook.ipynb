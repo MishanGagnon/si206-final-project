{
 "cells": [
  {
   "cell_type": "code",
   "execution_count": 10,
   "metadata": {},
   "outputs": [],
   "source": [
    "from pytrends.request import TrendReq\n",
    "import pandas as pd\n",
    "import matplotlib.pyplot as plt\n",
    "\n",
    "pytrends = TrendReq(hl='en-US', tz=360)\n"
   ]
  },
  {
   "cell_type": "code",
   "execution_count": 11,
   "metadata": {},
   "outputs": [
    {
     "name": "stderr",
     "output_type": "stream",
     "text": [
      "/Users/mishangagnon/opt/anaconda3/envs/si206/lib/python3.12/site-packages/pytrends/request.py:260: FutureWarning: Downcasting object dtype arrays on .fillna, .ffill, .bfill is deprecated and will change in a future version. Call result.infer_objects(copy=False) instead. To opt-in to the future behavior, set `pd.set_option('future.no_silent_downcasting', True)`\n",
      "  df = df.fillna(False)\n"
     ]
    }
   ],
   "source": [
    "kw_list = [\"Bread\",\"Ferrari\"]\n",
    "pytrends.build_payload(kw_list=kw_list, timeframe=['today 3-m', 'today 3-m'], geo = 'US')\n",
    "overTime = pytrends.interest_over_time()"
   ]
  },
  {
   "cell_type": "code",
   "execution_count": 12,
   "metadata": {},
   "outputs": [],
   "source": [
    "kw_list = [\"food near me\"]\n",
    "pytrends.build_payload(kw_list=kw_list, timeframe=['today 3-m'], geo = 'US')\n",
    "overTime = pytrends.interest_by_region(resolution='CITY')"
   ]
  },
  {
   "cell_type": "code",
   "execution_count": 13,
   "metadata": {},
   "outputs": [
    {
     "name": "stderr",
     "output_type": "stream",
     "text": [
      "/Users/mishangagnon/opt/anaconda3/envs/si206/lib/python3.12/site-packages/pytrends/request.py:260: FutureWarning: Downcasting object dtype arrays on .fillna, .ffill, .bfill is deprecated and will change in a future version. Call result.infer_objects(copy=False) instead. To opt-in to the future behavior, set `pd.set_option('future.no_silent_downcasting', True)`\n",
      "  df = df.fillna(False)\n"
     ]
    },
    {
     "data": {
      "text/plain": [
       "<Axes: >"
      ]
     },
     "execution_count": 13,
     "metadata": {},
     "output_type": "execute_result"
    },
    {
     "data": {
      "image/png": "[encoded data removed]",
      "text/plain": [
       "<Figure size 640x480 with 1 Axes>"
      ]
     },
     "metadata": {},
     "output_type": "display_data"
    }
   ],
   "source": [
    "from pytrends.request import TrendReq\n",
    "import pandas as pd\n",
    "\n",
    "# Initialize a TrendReq object\n",
    "pytrend = TrendReq(hl='en-US', tz=360)  # 'hl' is the host language, 'tz' is the timezone offset\n",
    "\n",
    "# Define the search keyword and the region\n",
    "keyword = 'ice cream'\n",
    "geo = 'US-MI-505'  # Michigan, USA as the region, you might need to adjust this for more specific local data\n",
    "\n",
    "# Build the payload\n",
    "pytrend.build_payload(kw_list=[keyword], geo=geo, timeframe='today 5-y')  # Adjust timeframe as needed\n",
    "\n",
    "# Get interest over time\n",
    "interest_over_time_df = pytrend.interest_over_time()\n",
    "interest_over_time_df.drop('isPartial', axis =1, inplace=True)\n",
    "interest_over_time_df = interest_over_time_df.reset_index()\n",
    "interest_over_time_df.columns = interest_over_time_df.columns.str.replace(' ', '_', regex=True)\n",
    "\n",
    "\n",
    "\n",
    "# Display the data\n",
    "interest_over_time_df.plot(kind = 'line')\n"
   ]
  },
  {
   "cell_type": "code",
   "execution_count": null,
   "metadata": {},
   "outputs": [],
   "source": []
  },
  {
   "cell_type": "code",
   "execution_count": 20,
   "metadata": {},
   "outputs": [],
   "source": [
    "def set_up_database(db_name):\n",
    "    conn = sqlite3.connect(\"/Users/mishangagnon/si206/si206-final-project\" + \"/\" + db_name)\n",
    "    cur = conn.cursor()\n",
    "    return conn\n",
    "\n",
    "def create_table_from_df(df, table_name, conn):\n",
    "    # Start the CREATE TABLE statement\n",
    "    sql = f\"CREATE TABLE IF NOT EXISTS {table_name} (\"\n",
    "    \n",
    "    # Add columns with appropriate data types\n",
    "    columns = []\n",
    "    for col_name, dtype in df.dtypes.items():\n",
    "        col_type = 'TEXT'  # Default type\n",
    "        if pd.api.types.is_integer_dtype(dtype):\n",
    "            col_type = 'INTEGER'\n",
    "        elif pd.api.types.is_float_dtype(dtype):\n",
    "            col_type = 'REAL'\n",
    "        elif pd.api.types.is_datetime64_any_dtype(dtype):\n",
    "            col_type = 'DATETIME'\n",
    "        # Add column specification\n",
    "        columns.append(f\"{col_name} {col_type}\")\n",
    "    \n",
    "    # Complete the SQL statement\n",
    "    sql += \", \".join(columns)\n",
    "    sql += \")\"\n",
    "    \n",
    "    # Execute the SQL statement\n",
    "    cur = conn.cursor()\n",
    "    cur.execute(sql)\n",
    "    conn.commit()\n",
    "\n",
    "\n",
    "def get_oldest_date(table_name, date_col_name, conn):\n",
    "\n",
    "    # Create a cursor object using the connection\n",
    "    cur = conn.cursor()\n",
    "    \n",
    "    # Execute the query to find the oldest date\n",
    "    cur.execute(f\"SELECT MIN({date_col_name}) FROM {table_name}\")\n",
    "    \n",
    "    # Fetch the result\n",
    "    result = cur.fetchone()\n",
    "    \n",
    "    # Check if the result is not None\n",
    "    if result and result[0]:\n",
    "        return result[0]\n",
    "    else:\n",
    "        return None\n",
    "\n",
    "def shift_date(date_str, days):\n",
    "    \"\"\"\n",
    "    Shifts a given date by a specified number of days using pandas.\n",
    "    \n",
    "    Parameters:\n",
    "    date_str (str): The date in 'YYYY-MM-DD' format.\n",
    "    days (int): The number of days to shift the date. Negative for past, positive for future.\n",
    "    \n",
    "    Returns:\n",
    "    str: The shifted date in 'YYYY-MM-DD' format.\n",
    "    \"\"\"\n",
    "    date = pd.to_datetime(date_str)\n",
    "    \n",
    "    # Create a Timedelta and shift the date by the specified number of days\n",
    "    new_date = date + pd.Timedelta(days=days)\n",
    "    \n",
    "    # Convert the Timestamp back to a string in 'YYYY-MM-DD' format\n",
    "    return new_date.strftime('%Y-%m-%d')\n",
    "\n",
    "def insert_data_from_df(df, table_name, date_col_name, conn):\n",
    "\n",
    "    # Create a cursor object using the connection\n",
    "    cur = conn.cursor()\n",
    "    df[date_col_name] = pd.to_datetime(df[date_col_name])\n",
    "    df[date_col_name] = df[date_col_name].dt.strftime('%Y-%m-%d')\n",
    "    # Prepare the INSERT INTO statement\n",
    "    placeholders = ', '.join(['?'] * len(df.columns))\n",
    "    columns = ', '.join(df.columns)\n",
    "    sql = f\"INSERT INTO {table_name} ({columns}) VALUES ({placeholders})\"\n",
    "    # Insert each row from the DataFrame\n",
    "    for row in df.itertuples(index=False, name=None):\n",
    "        cur.execute(sql, row)\n",
    "        conn.commit()\n",
    "    \n",
    "    # Commit the transactions"
   ]
  },
  {
   "cell_type": "code",
   "execution_count": 16,
   "metadata": {},
   "outputs": [],
   "source": [
    "import os\n",
    "import sqlite3\n",
    "DB_NAME = \"test.db\"\n",
    "TABLE_NAME = \"interest_over_time\"\n",
    "conn = set_up_database(DB_NAME)\n",
    "create_table_from_df(interest_over_time_df, TABLE_NAME, conn)\n",
    "#insert_data_from_df(interest_over_time_df, TABLE_NAME,'date', conn)"
   ]
  },
  {
   "cell_type": "code",
   "execution_count": 17,
   "metadata": {},
   "outputs": [
    {
     "name": "stdout",
     "output_type": "stream",
     "text": [
      "[]\n"
     ]
    }
   ],
   "source": [
    "cur = conn.cursor()\n",
    "\n",
    "# Execute the SELECT query\n",
    "cur.execute(\"SELECT * FROM interest_over_time\")\n",
    "\n",
    "# Fetch and print the results\n",
    "print(cur.fetchall())"
   ]
  },
  {
   "cell_type": "code",
   "execution_count": 18,
   "metadata": {},
   "outputs": [],
   "source": [
    "from pytrends.request import TrendReq\n",
    "from db_utils import *\n",
    "import matplotlib.pyplot as plt\n",
    "def request_search_range_df(start_date, end_date, query):\n",
    "\n",
    "    # Initialize a TrendReq object\n",
    "    pytrend = TrendReq(hl='en-US', tz=360)  # 'hl' is the host language, 'tz' is the timezone offset\n",
    "\n",
    "    # Define the search keyword and the region\n",
    "    keyword = query\n",
    "    geo = 'US-MI-505'  # Michigan, USA as the region, you might need to adjust this for more specific local data\n",
    "\n",
    "    # Build the payload\n",
    "    pytrend.build_payload(kw_list=[keyword], geo=geo, timeframe=f'{start_date} {end_date}')  # Adjust timeframe as needed\n",
    "\n",
    "    # Get interest over time\n",
    "    interest_over_time_df = pytrend.interest_over_time()\n",
    "    interest_over_time_df.drop('isPartial', axis =1, inplace=True)\n",
    "    interest_over_time_df = interest_over_time_df.reset_index()\n",
    "    interest_over_time_df.columns = interest_over_time_df.columns.str.replace(' ', '_', regex=True)\n",
    "\n",
    "    return interest_over_time_df"
   ]
  },
  {
   "cell_type": "code",
   "execution_count": 22,
   "metadata": {},
   "outputs": [
    {
     "name": "stdout",
     "output_type": "stream",
     "text": [
      "None\n"
     ]
    }
   ],
   "source": [
    "oldest_date = get_oldest_date(TABLE_NAME,'date',conn)\n",
    "print(oldest_date)\n"
   ]
  },
  {
   "cell_type": "code",
   "execution_count": 25,
   "metadata": {},
   "outputs": [
    {
     "data": {
      "text/html": [
       "<div>\n",
       "<style scoped>\n",
       "    .dataframe tbody tr th:only-of-type {\n",
       "        vertical-align: middle;\n",
       "    }\n",
       "\n",
       "    .dataframe tbody tr th {\n",
       "        vertical-align: top;\n",
       "    }\n",
       "\n",
       "    .dataframe thead th {\n",
       "        text-align: right;\n",
       "    }\n",
       "</style>\n",
       "<table border=\"1\" class=\"dataframe\">\n",
       "  <thead>\n",
       "    <tr style=\"text-align: right;\">\n",
       "      <th></th>\n",
       "      <th>[0] ice cream date</th>\n",
       "      <th>[0] ice cream value</th>\n",
       "      <th>[1] mets date</th>\n",
       "      <th>[1] mets value</th>\n",
       "    </tr>\n",
       "  </thead>\n",
       "  <tbody>\n",
       "    <tr>\n",
       "      <th>0</th>\n",
       "      <td>Average</td>\n",
       "      <td>68</td>\n",
       "      <td>Average</td>\n",
       "      <td>54</td>\n",
       "    </tr>\n",
       "    <tr>\n",
       "      <th>1</th>\n",
       "      <td>Sep 4, 2022</td>\n",
       "      <td>100</td>\n",
       "      <td>Sep 18, 2022</td>\n",
       "      <td>83</td>\n",
       "    </tr>\n",
       "    <tr>\n",
       "      <th>2</th>\n",
       "      <td>Sep 5, 2022</td>\n",
       "      <td>95</td>\n",
       "      <td>Sep 19, 2022</td>\n",
       "      <td>28</td>\n",
       "    </tr>\n",
       "    <tr>\n",
       "      <th>3</th>\n",
       "      <td>Sep 6, 2022</td>\n",
       "      <td>55</td>\n",
       "      <td>Sep 20, 2022</td>\n",
       "      <td>53</td>\n",
       "    </tr>\n",
       "    <tr>\n",
       "      <th>4</th>\n",
       "      <td>Sep 7, 2022</td>\n",
       "      <td>50</td>\n",
       "      <td>Sep 21, 2022</td>\n",
       "      <td>77</td>\n",
       "    </tr>\n",
       "    <tr>\n",
       "      <th>5</th>\n",
       "      <td>Sep 8, 2022</td>\n",
       "      <td>48</td>\n",
       "      <td>Sep 22, 2022</td>\n",
       "      <td>28</td>\n",
       "    </tr>\n",
       "    <tr>\n",
       "      <th>6</th>\n",
       "      <td>Sep 9, 2022</td>\n",
       "      <td>51</td>\n",
       "      <td>Sep 23, 2022</td>\n",
       "      <td>29</td>\n",
       "    </tr>\n",
       "    <tr>\n",
       "      <th>7</th>\n",
       "      <td>Sep 10, 2022</td>\n",
       "      <td>74</td>\n",
       "      <td>Sep 24, 2022</td>\n",
       "      <td>79</td>\n",
       "    </tr>\n",
       "  </tbody>\n",
       "</table>\n",
       "</div>"
      ],
      "text/plain": [
       "  [0] ice cream date  [0] ice cream value [1] mets date  [1] mets value\n",
       "0            Average                   68       Average              54\n",
       "1        Sep 4, 2022                  100  Sep 18, 2022              83\n",
       "2        Sep 5, 2022                   95  Sep 19, 2022              28\n",
       "3        Sep 6, 2022                   55  Sep 20, 2022              53\n",
       "4        Sep 7, 2022                   50  Sep 21, 2022              77\n",
       "5        Sep 8, 2022                   48  Sep 22, 2022              28\n",
       "6        Sep 9, 2022                   51  Sep 23, 2022              29\n",
       "7       Sep 10, 2022                   74  Sep 24, 2022              79"
      ]
     },
     "execution_count": 25,
     "metadata": {},
     "output_type": "execute_result"
    }
   ],
   "source": [
    "pytrends.build_payload(kw_list=['ice cream', 'mets'], timeframe=['2022-09-04 2022-09-10', '2022-09-18 2022-09-24'])\n",
    "pytrends.multirange_interest_over_time()"
   ]
  },
  {
   "cell_type": "code",
   "execution_count": null,
   "metadata": {},
   "outputs": [
    {
     "name": "stdout",
     "output_type": "stream",
     "text": [
      "            ice cream  mets  isPartial\n",
      "date                                  \n",
      "2022-09-05         97     0      False\n",
      "2022-09-06         43    19      False\n",
      "2022-09-07         58    12      False\n",
      "2022-09-08         53     0      False\n",
      "2022-09-09         63     0      False\n",
      "2022-09-10        100    14      False\n"
     ]
    }
   ],
   "source": [
    "pytrend = TrendReq(hl='en-US', tz=360)  # 'hl' is the host language, 'tz' is the timezone offset\n",
    "\n",
    "    # Define the search keyword and the region\n",
    "keyword = [\"ice cream\",\"mets\"]\n",
    "geo = 'US-MI-505'  # Michigan, USA as the region, you might need to adjust this for more specific local data\n",
    "\n",
    "# Build the payload\n",
    "pytrend.build_payload(kw_list=keyword, geo=geo, timeframe='2023-08-08 2023-09-01')  # Adjust timeframe as needed\n",
    "\n",
    "# Get interest over time\n",
    "interest_over_time_df = pytrend.interest_over_time()\n",
    "print(interest_over_time_df)"
   ]
  },
  {
   "cell_type": "code",
   "execution_count": null,
   "metadata": {},
   "outputs": [
    {
     "data": {
      "text/html": [
       "<div>\n",
       "<style scoped>\n",
       "    .dataframe tbody tr th:only-of-type {\n",
       "        vertical-align: middle;\n",
       "    }\n",
       "\n",
       "    .dataframe tbody tr th {\n",
       "        vertical-align: top;\n",
       "    }\n",
       "\n",
       "    .dataframe thead th {\n",
       "        text-align: right;\n",
       "    }\n",
       "</style>\n",
       "<table border=\"1\" class=\"dataframe\">\n",
       "  <thead>\n",
       "    <tr style=\"text-align: right;\">\n",
       "      <th></th>\n",
       "      <th>date</th>\n",
       "      <th>ice cream</th>\n",
       "    </tr>\n",
       "  </thead>\n",
       "  <tbody>\n",
       "    <tr>\n",
       "      <th>257</th>\n",
       "      <td>2024-03-31</td>\n",
       "      <td>45</td>\n",
       "    </tr>\n",
       "    <tr>\n",
       "      <th>258</th>\n",
       "      <td>2024-04-07</td>\n",
       "      <td>58</td>\n",
       "    </tr>\n",
       "    <tr>\n",
       "      <th>259</th>\n",
       "      <td>2024-04-14</td>\n",
       "      <td>66</td>\n",
       "    </tr>\n",
       "    <tr>\n",
       "      <th>260</th>\n",
       "      <td>2024-04-21</td>\n",
       "      <td>60</td>\n",
       "    </tr>\n",
       "    <tr>\n",
       "      <th>261</th>\n",
       "      <td>2024-04-28</td>\n",
       "      <td>80</td>\n",
       "    </tr>\n",
       "  </tbody>\n",
       "</table>\n",
       "</div>"
      ],
      "text/plain": [
       "          date  ice cream\n",
       "257 2024-03-31         45\n",
       "258 2024-04-07         58\n",
       "259 2024-04-14         66\n",
       "260 2024-04-21         60\n",
       "261 2024-04-28         80"
      ]
     },
     "execution_count": 272,
     "metadata": {},
     "output_type": "execute_result"
    }
   ],
   "source": [
    "new_df.tail()"
   ]
  },
  {
   "cell_type": "code",
   "execution_count": null,
   "metadata": {},
   "outputs": [],
   "source": []
  }
 ],
 "metadata": {
  "kernelspec": {
   "display_name": "si206",
   "language": "python",
   "name": "python3"
  },
  "language_info": {
   "codemirror_mode": {
    "name": "ipython",
    "version": 3
   },
   "file_extension": ".py",
   "mimetype": "text/x-python",
   "name": "python",
   "nbconvert_exporter": "python",
   "pygments_lexer": "ipython3",
   "version": "3.12.3"
  }
 },
 "nbformat": 4,
 "nbformat_minor": 2
}
